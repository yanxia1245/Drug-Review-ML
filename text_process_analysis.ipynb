{
 "cells": [
  {
   "cell_type": "code",
   "execution_count": 1,
   "metadata": {},
   "outputs": [],
   "source": [
    "import pandas as pd\n",
    "import numpy as np\n",
    "import gensim\n",
    "from sklearn.model_selection import train_test_split\n",
    "from sklearn.preprocessing import LabelEncoder, StandardScaler\n",
    "from sklearn.impute import SimpleImputer\n",
    "from imblearn.over_sampling import RandomOverSampler\n",
    "from gensim.models import Word2Vec\n",
    "from nltk.stem import PorterStemmer\n",
    "from sklearn.preprocessing import LabelEncoder"
   ]
  },
  {
   "cell_type": "markdown",
   "metadata": {},
   "source": [
    "# Load Cleaned Dataset"
   ]
  },
  {
   "cell_type": "code",
   "execution_count": 2,
   "metadata": {},
   "outputs": [],
   "source": [
    "df = pd.read_csv(\"clean_drug_data.csv\")"
   ]
  },
  {
   "cell_type": "code",
   "execution_count": 3,
   "metadata": {},
   "outputs": [
    {
     "data": {
      "text/html": [
       "<div>\n",
       "<style scoped>\n",
       "    .dataframe tbody tr th:only-of-type {\n",
       "        vertical-align: middle;\n",
       "    }\n",
       "\n",
       "    .dataframe tbody tr th {\n",
       "        vertical-align: top;\n",
       "    }\n",
       "\n",
       "    .dataframe thead th {\n",
       "        text-align: right;\n",
       "    }\n",
       "</style>\n",
       "<table border=\"1\" class=\"dataframe\">\n",
       "  <thead>\n",
       "    <tr style=\"text-align: right;\">\n",
       "      <th></th>\n",
       "      <th>drugName</th>\n",
       "      <th>condition</th>\n",
       "      <th>review</th>\n",
       "      <th>rating</th>\n",
       "      <th>date</th>\n",
       "      <th>usefulCount</th>\n",
       "      <th>day</th>\n",
       "      <th>month</th>\n",
       "      <th>year</th>\n",
       "    </tr>\n",
       "  </thead>\n",
       "  <tbody>\n",
       "    <tr>\n",
       "      <th>0</th>\n",
       "      <td>Valsartan</td>\n",
       "      <td>Left Ventricular Dysfunction</td>\n",
       "      <td>\"\"\"It has no side effect, I take it in combina...</td>\n",
       "      <td>9.0</td>\n",
       "      <td>2012-05-20</td>\n",
       "      <td>27.0</td>\n",
       "      <td>20</td>\n",
       "      <td>5</td>\n",
       "      <td>2012</td>\n",
       "    </tr>\n",
       "    <tr>\n",
       "      <th>1</th>\n",
       "      <td>Guanfacine</td>\n",
       "      <td>ADHD</td>\n",
       "      <td>\"\"\"My son is halfway through his fourth week o...</td>\n",
       "      <td>8.0</td>\n",
       "      <td>2010-04-27</td>\n",
       "      <td>192.0</td>\n",
       "      <td>27</td>\n",
       "      <td>4</td>\n",
       "      <td>2010</td>\n",
       "    </tr>\n",
       "    <tr>\n",
       "      <th>2</th>\n",
       "      <td>Lybrel</td>\n",
       "      <td>Birth Control</td>\n",
       "      <td>\"\"\"I used to take another oral contraceptive, ...</td>\n",
       "      <td>5.0</td>\n",
       "      <td>2009-12-14</td>\n",
       "      <td>17.0</td>\n",
       "      <td>14</td>\n",
       "      <td>12</td>\n",
       "      <td>2009</td>\n",
       "    </tr>\n",
       "    <tr>\n",
       "      <th>3</th>\n",
       "      <td>Ortho Evra</td>\n",
       "      <td>Birth Control</td>\n",
       "      <td>\"\"\"This is my first time using any form of bir...</td>\n",
       "      <td>8.0</td>\n",
       "      <td>2015-11-03</td>\n",
       "      <td>10.0</td>\n",
       "      <td>3</td>\n",
       "      <td>11</td>\n",
       "      <td>2015</td>\n",
       "    </tr>\n",
       "    <tr>\n",
       "      <th>4</th>\n",
       "      <td>Buprenorphine / naloxone</td>\n",
       "      <td>Opiate Dependence</td>\n",
       "      <td>\"\"\"Suboxone has completely turned my life arou...</td>\n",
       "      <td>9.0</td>\n",
       "      <td>2016-11-27</td>\n",
       "      <td>37.0</td>\n",
       "      <td>27</td>\n",
       "      <td>11</td>\n",
       "      <td>2016</td>\n",
       "    </tr>\n",
       "  </tbody>\n",
       "</table>\n",
       "</div>"
      ],
      "text/plain": [
       "                   drugName                     condition  \\\n",
       "0                 Valsartan  Left Ventricular Dysfunction   \n",
       "1                Guanfacine                          ADHD   \n",
       "2                    Lybrel                 Birth Control   \n",
       "3                Ortho Evra                 Birth Control   \n",
       "4  Buprenorphine / naloxone             Opiate Dependence   \n",
       "\n",
       "                                              review  rating        date  \\\n",
       "0  \"\"\"It has no side effect, I take it in combina...     9.0  2012-05-20   \n",
       "1  \"\"\"My son is halfway through his fourth week o...     8.0  2010-04-27   \n",
       "2  \"\"\"I used to take another oral contraceptive, ...     5.0  2009-12-14   \n",
       "3  \"\"\"This is my first time using any form of bir...     8.0  2015-11-03   \n",
       "4  \"\"\"Suboxone has completely turned my life arou...     9.0  2016-11-27   \n",
       "\n",
       "   usefulCount  day  month  year  \n",
       "0         27.0   20      5  2012  \n",
       "1        192.0   27      4  2010  \n",
       "2         17.0   14     12  2009  \n",
       "3         10.0    3     11  2015  \n",
       "4         37.0   27     11  2016  "
      ]
     },
     "execution_count": 3,
     "metadata": {},
     "output_type": "execute_result"
    }
   ],
   "source": [
    "df.head()"
   ]
  },
  {
   "cell_type": "markdown",
   "metadata": {},
   "source": [
    "# Dataset Splitting"
   ]
  },
  {
   "cell_type": "code",
   "execution_count": 4,
   "metadata": {},
   "outputs": [],
   "source": [
    "X = df.drop(columns=[\"rating\"])\n",
    "y = df[\"rating\"]"
   ]
  },
  {
   "cell_type": "code",
   "execution_count": 5,
   "metadata": {},
   "outputs": [],
   "source": [
    "X_train, X_test, y_train, y_test = train_test_split(\n",
    "    X, y, test_size=0.2, random_state=42, stratify=y\n",
    ")"
   ]
  },
  {
   "cell_type": "markdown",
   "metadata": {},
   "source": [
    "# Text Processing"
   ]
  },
  {
   "cell_type": "markdown",
   "metadata": {},
   "source": [
    "### Tokenization & Stemming"
   ]
  },
  {
   "cell_type": "code",
   "execution_count": 6,
   "metadata": {},
   "outputs": [],
   "source": [
    "stemmer = PorterStemmer()"
   ]
  },
  {
   "cell_type": "code",
   "execution_count": 7,
   "metadata": {},
   "outputs": [],
   "source": [
    "# define the function of tokenization and stemming\n",
    "def preprocess_text(text): \n",
    "    tokens = gensim.utils.simple_preprocess(text, deacc=True)\n",
    "    stemmed_tokens = [stemmer.stem(word) for word in tokens]\n",
    "    return stemmed_tokens"
   ]
  },
  {
   "cell_type": "code",
   "execution_count": 8,
   "metadata": {},
   "outputs": [],
   "source": [
    "X_train[\"tokenized_review\"] = X_train[\"review\"].apply(preprocess_text)\n",
    "X_test[\"tokenized_review\"] = X_test[\"review\"].apply(preprocess_text)"
   ]
  },
  {
   "cell_type": "markdown",
   "metadata": {},
   "source": [
    "### Word Embeddings (Word2Vec)"
   ]
  },
  {
   "cell_type": "code",
   "execution_count": 9,
   "metadata": {},
   "outputs": [],
   "source": [
    "w2v_model = Word2Vec(sentences=X_train[\"tokenized_review\"], vector_size=100, window=5, min_count=2, workers=4)"
   ]
  },
  {
   "cell_type": "code",
   "execution_count": 10,
   "metadata": {},
   "outputs": [],
   "source": [
    "# Convert text to word vector averages\n",
    "def get_avg_word2vec(tokens, model, vector_size=100):\n",
    "    valid_words = [word for word in tokens if word in model.wv]\n",
    "    if len(valid_words) == 0:\n",
    "        return np.zeros(vector_size)\n",
    "    return np.mean(model.wv[valid_words], axis=0)"
   ]
  },
  {
   "cell_type": "code",
   "execution_count": 11,
   "metadata": {},
   "outputs": [],
   "source": [
    "X_train[\"word2vec\"] = X_train[\"tokenized_review\"].apply(lambda tokens: get_avg_word2vec(tokens, w2v_model, 100))\n",
    "X_test[\"word2vec\"] = X_test[\"tokenized_review\"].apply(lambda tokens: get_avg_word2vec(tokens, w2v_model, 100))"
   ]
  },
  {
   "cell_type": "code",
   "execution_count": 13,
   "metadata": {},
   "outputs": [],
   "source": [
    "# Drop text columns\n",
    "X_train.drop(columns=[\"review\", \"tokenized_review\"], inplace=True)\n",
    "X_test.drop(columns=[\"review\", \"tokenized_review\"], inplace=True)"
   ]
  },
  {
   "cell_type": "markdown",
   "metadata": {},
   "source": [
    "# Feature Engineering (Encoding Categorical Variables)"
   ]
  },
  {
   "cell_type": "code",
   "execution_count": 14,
   "metadata": {},
   "outputs": [],
   "source": [
    "categorical_cols = [\"drugName\", \"condition\"]\n",
    "label_encoders = {}"
   ]
  },
  {
   "cell_type": "code",
   "execution_count": 15,
   "metadata": {},
   "outputs": [],
   "source": [
    "# Ensure all categorical data is converted to strings\n",
    "for col in categorical_cols:\n",
    "    X_train[col] = X_train[col].astype(str)\n",
    "    X_test[col] = X_test[col].astype(str)\n",
    "\n",
    "    # Fit LabelEncoder on combined train & test data\n",
    "    le = LabelEncoder()\n",
    "    le.fit(pd.concat([X_train[col], X_test[col]], axis=0))  # Fit on full dataset\n",
    "    \n",
    "    # Transform train & test separately\n",
    "    X_train[col] = le.transform(X_train[col])\n",
    "    X_test[col] = le.transform(X_test[col])\n",
    "    \n",
    "    label_encoders[col] = le  # Store encoders for future use\n",
    "\n"
   ]
  },
  {
   "cell_type": "markdown",
   "metadata": {},
   "source": [
    "# Scaling & Oversampling"
   ]
  },
  {
   "cell_type": "markdown",
   "metadata": {},
   "source": [
    "### Scaling"
   ]
  },
  {
   "cell_type": "code",
   "execution_count": 16,
   "metadata": {},
   "outputs": [],
   "source": [
    "scaler = StandardScaler()"
   ]
  },
  {
   "cell_type": "code",
   "execution_count": null,
   "metadata": {},
   "outputs": [],
   "source": [
    "# Remove non-numeric columns before scaling\n",
    "non_numeric_cols = [\"drugName\", \"condition\", \"date\"]\n",
    "X_train.drop(columns=[col for col in non_numeric_cols if col in X_train.columns], inplace=True)\n",
    "X_test.drop(columns=[col for col in non_numeric_cols if col in X_test.columns], inplace=True)"
   ]
  },
  {
   "cell_type": "code",
   "execution_count": 17,
   "metadata": {},
   "outputs": [],
   "source": [
    "# Convert word2vec embeddings into a fixed-dimension numeric array\n",
    "def flatten_embeddings(df, embedding_col=\"word2vec\", vector_size=100):\n",
    "    word2vec_array = np.vstack(df[embedding_col].values)  # Stack into matrix\n",
    "    word2vec_df = pd.DataFrame(word2vec_array, index=df.index, columns=[f\"w2v_{i}\" for i in range(vector_size)])\n",
    "    return pd.concat([df.drop(columns=[embedding_col]), word2vec_df], axis=1)"
   ]
  },
  {
   "cell_type": "code",
   "execution_count": 18,
   "metadata": {},
   "outputs": [],
   "source": [
    "# Apply transformation to train & test sets\n",
    "X_train = flatten_embeddings(X_train, \"word2vec\", vector_size=100)\n",
    "X_test = flatten_embeddings(X_test, \"word2vec\", vector_size=100)"
   ]
  },
  {
   "cell_type": "code",
   "execution_count": 19,
   "metadata": {},
   "outputs": [],
   "source": [
    "# Ensure all remaining columns are numeric before scaling\n",
    "X_train = X_train.apply(pd.to_numeric, errors=\"coerce\")\n",
    "X_test = X_test.apply(pd.to_numeric, errors=\"coerce\")"
   ]
  },
  {
   "cell_type": "code",
   "execution_count": 20,
   "metadata": {},
   "outputs": [],
   "source": [
    "# Fill any NaN values (caused by coercion) with 0\n",
    "X_train.fillna(0, inplace=True)\n",
    "X_test.fillna(0, inplace=True)"
   ]
  },
  {
   "cell_type": "code",
   "execution_count": 21,
   "metadata": {},
   "outputs": [],
   "source": [
    "# Standardize numerical features (fit only on training set)\n",
    "scaler = StandardScaler()\n",
    "X_train_scaled = scaler.fit_transform(X_train)  # Fit on train\n",
    "X_test_scaled = scaler.transform(X_test)  # Transform test using same scaler"
   ]
  },
  {
   "cell_type": "markdown",
   "metadata": {},
   "source": [
    "### Apply Oversampling to Balance Classes on training data"
   ]
  },
  {
   "cell_type": "code",
   "execution_count": 22,
   "metadata": {},
   "outputs": [],
   "source": [
    "ros = RandomOverSampler(random_state=42)\n",
    "X_train_resampled, y_train_resampled = ros.fit_resample(X_train_scaled, y_train)"
   ]
  },
  {
   "cell_type": "code",
   "execution_count": 23,
   "metadata": {},
   "outputs": [],
   "source": [
    "# Convert back to DataFrame (for easier handling)\n",
    "X_train_resampled = pd.DataFrame(X_train_resampled, columns=X_train.columns)\n",
    "X_test_scaled = pd.DataFrame(X_test_scaled, columns=X_test.columns)"
   ]
  },
  {
   "cell_type": "markdown",
   "metadata": {},
   "source": [
    "# Save Processed Data for Modeling"
   ]
  },
  {
   "cell_type": "code",
   "execution_count": 24,
   "metadata": {},
   "outputs": [],
   "source": [
    "X_train_resampled.to_csv(\"X_train_processed.csv\", index=False)\n",
    "X_test_scaled.to_csv(\"X_test_processed.csv\", index=False)\n",
    "pd.DataFrame(y_train_resampled, columns=[\"rating\"]).to_csv(\"y_train.csv\", index=False)\n",
    "pd.DataFrame(y_test, columns=[\"rating\"]).to_csv(\"y_test.csv\", index=False)"
   ]
  }
 ],
 "metadata": {
  "kernelspec": {
   "display_name": "Python 3",
   "language": "python",
   "name": "python3"
  },
  "language_info": {
   "codemirror_mode": {
    "name": "ipython",
    "version": 3
   },
   "file_extension": ".py",
   "mimetype": "text/x-python",
   "name": "python",
   "nbconvert_exporter": "python",
   "pygments_lexer": "ipython3",
   "version": "3.11.7"
  }
 },
 "nbformat": 4,
 "nbformat_minor": 2
}
